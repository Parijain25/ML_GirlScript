{
  "nbformat": 4,
  "nbformat_minor": 0,
  "metadata": {
    "colab": {
      "name": "01_Perceptron_Training.ipynb",
      "provenance": [],
      "toc_visible": true,
      "authorship_tag": "ABX9TyO8RRscqsSksko0nbR1FwvU",
      "include_colab_link": true
    },
    "kernelspec": {
      "name": "python3",
      "display_name": "Python 3"
    },
    "language_info": {
      "name": "python"
    }
  },
  "cells": [
    {
      "cell_type": "markdown",
      "metadata": {
        "id": "view-in-github",
        "colab_type": "text"
      },
      "source": [
        "<a href=\"https://colab.research.google.com/github/Parijain25/ML_GirlScript/blob/main/01_Perceptron_Training.ipynb\" target=\"_parent\"><img src=\"https://colab.research.google.com/assets/colab-badge.svg\" alt=\"Open In Colab\"/></a>"
      ]
    },
    {
      "cell_type": "code",
      "metadata": {
        "colab": {
          "base_uri": "https://localhost:8080/"
        },
        "id": "weA4Ew26IjC5",
        "outputId": "e3894512-a889-4712-9f98-04d53820d038"
      },
      "source": [
        "print(\"Hello World\")"
      ],
      "execution_count": null,
      "outputs": [
        {
          "output_type": "stream",
          "text": [
            "Hello World\n"
          ],
          "name": "stdout"
        }
      ]
    },
    {
      "cell_type": "code",
      "metadata": {
        "colab": {
          "base_uri": "https://localhost:8080/"
        },
        "id": "h_0cZF2mHXuM",
        "outputId": "e79263c3-e630-4b87-e852-0f1b850ff269"
      },
      "source": [
        "from google.colab import drive\n",
        "drive.mount('/content/drive')"
      ],
      "execution_count": 4,
      "outputs": [
        {
          "output_type": "stream",
          "text": [
            "Mounted at /content/drive\n"
          ],
          "name": "stdout"
        }
      ]
    },
    {
      "cell_type": "code",
      "metadata": {
        "id": "TSfJ41gkupaZ",
        "colab": {
          "base_uri": "https://localhost:8080/"
        },
        "outputId": "80193db3-c502-46fc-96f0-38fab1dd9155"
      },
      "source": [
        "cd'/content/drive/MyDrive/GirlScript_MLcourse'"
      ],
      "execution_count": 9,
      "outputs": [
        {
          "output_type": "stream",
          "text": [
            "/content/drive/MyDrive/GirlScript_MLcourse\n"
          ],
          "name": "stdout"
        }
      ]
    },
    {
      "cell_type": "markdown",
      "metadata": {
        "id": "tABdYWNNsthi"
      },
      "source": [
        "**Date Created** 23 May 2021\n",
        "\n",
        "Author : [Pari Jain](https://github.com/Parijain25/ML_GirlScript)"
      ]
    },
    {
      "cell_type": "markdown",
      "metadata": {
        "id": "vF97rvtuuA6-"
      },
      "source": [
        "#Problem Statement\n",
        "\n",
        "Train a model to analize the table of 10\n",
        "\n",
        "Equation : `y = 10x`\n",
        "\n",
        "Target -->\n",
        "```\n",
        "x=[0,1,2,3,4,5,......]\n",
        "\n",
        "y=[0,10,20,30,40,50,.....]\n",
        "```"
      ]
    },
    {
      "cell_type": "code",
      "metadata": {
        "colab": {
          "base_uri": "https://localhost:8080/"
        },
        "id": "TRN7wz40YfrW",
        "outputId": "96a20793-c92e-4330-ad7c-0d99e98052e0"
      },
      "source": [
        "x = [i for i in range(21)]#list comprehension\n",
        "print(x)"
      ],
      "execution_count": 10,
      "outputs": [
        {
          "output_type": "stream",
          "text": [
            "[0, 1, 2, 3, 4, 5, 6, 7, 8, 9, 10, 11, 12, 13, 14, 15, 16, 17, 18, 19, 20]\n"
          ],
          "name": "stdout"
        }
      ]
    },
    {
      "cell_type": "code",
      "metadata": {
        "colab": {
          "base_uri": "https://localhost:8080/"
        },
        "id": "5Z5b4LZR3GuG",
        "outputId": "17baaa0f-ac57-4fa4-9711-9acc9dbb9974"
      },
      "source": [
        "y = [i for i in range(201) if i%10==0]\n",
        "print(y)"
      ],
      "execution_count": 11,
      "outputs": [
        {
          "output_type": "stream",
          "text": [
            "[0, 10, 20, 30, 40, 50, 60, 70, 80, 90, 100, 110, 120, 130, 140, 150, 160, 170, 180, 190, 200]\n"
          ],
          "name": "stdout"
        }
      ]
    },
    {
      "cell_type": "markdown",
      "metadata": {
        "id": "AWG3gVpM6yMV"
      },
      "source": [
        "## Approach 1\n",
        "\n",
        "Defining a function for the equation `y=10x`"
      ]
    },
    {
      "cell_type": "code",
      "metadata": {
        "colab": {
          "base_uri": "https://localhost:8080/"
        },
        "id": "FwIBAkW4A9sw",
        "outputId": "551610d2-4358-49a2-d404-9fd0a213ecb7"
      },
      "source": [
        "def tableoften(x):\n",
        "  y=10*x\n",
        "  return y\n",
        "\n",
        "for value in x:\n",
        "  print(tableoften(value))\n"
      ],
      "execution_count": 12,
      "outputs": [
        {
          "output_type": "stream",
          "text": [
            "0\n",
            "10\n",
            "20\n",
            "30\n",
            "40\n",
            "50\n",
            "60\n",
            "70\n",
            "80\n",
            "90\n",
            "100\n",
            "110\n",
            "120\n",
            "130\n",
            "140\n",
            "150\n",
            "160\n",
            "170\n",
            "180\n",
            "190\n",
            "200\n"
          ],
          "name": "stdout"
        }
      ]
    },
    {
      "cell_type": "markdown",
      "metadata": {
        "id": "k2s0PC39QKK7"
      },
      "source": [
        "##Approach 2\n",
        "\n",
        "I am super excited about ML so I am going to make a redundant ML model for the table of 10.\n",
        "\n",
        "You're going to need `xTrain`, `yTain`, `xTest`, `yYest` from the `x` and `y` lists.\n",
        "\n",
        "This is x: [1,2,3,4,5]"
      ]
    },
    {
      "cell_type": "code",
      "metadata": {
        "colab": {
          "base_uri": "https://localhost:8080/"
        },
        "id": "XPVbd0BvQ-H5",
        "outputId": "9aceb901-654b-4b99-b402-493f99dc2525"
      },
      "source": [
        "print(f'This is x: {x}')\n",
        "print(f'This is y: {y}')"
      ],
      "execution_count": 13,
      "outputs": [
        {
          "output_type": "stream",
          "text": [
            "This is x: [0, 1, 2, 3, 4, 5, 6, 7, 8, 9, 10, 11, 12, 13, 14, 15, 16, 17, 18, 19, 20]\n",
            "This is y: [0, 10, 20, 30, 40, 50, 60, 70, 80, 90, 100, 110, 120, 130, 140, 150, 160, 170, 180, 190, 200]\n"
          ],
          "name": "stdout"
        }
      ]
    },
    {
      "cell_type": "code",
      "metadata": {
        "colab": {
          "base_uri": "https://localhost:8080/"
        },
        "id": "cYBHuKWcUity",
        "outputId": "9b9e550e-6fa5-4441-d42f-97cba7e3c4ff"
      },
      "source": [
        "print(y[:-5])"
      ],
      "execution_count": 14,
      "outputs": [
        {
          "output_type": "stream",
          "text": [
            "[0, 10, 20, 30, 40, 50, 60, 70, 80, 90, 100, 110, 120, 130, 140, 150]\n"
          ],
          "name": "stdout"
        }
      ]
    },
    {
      "cell_type": "code",
      "metadata": {
        "id": "nTSCtEDQU7BV",
        "colab": {
          "base_uri": "https://localhost:8080/"
        },
        "outputId": "4c7ded1b-f7be-4814-b319-36fe0b14db60"
      },
      "source": [
        "xTrain = x[:-5]#Training Data\n",
        "yTrain = y[:-5]#Training Labels\n",
        "\n",
        "xTest = x[:-5]#Testing Data\n",
        "yTest = y[:-5]#Testing Labels\n",
        "\n",
        "print(f'''\n",
        "Training data :\n",
        "xTrain : {xTrain}\n",
        "yTrain : {yTrain}\n",
        "\n",
        "Testing data :\n",
        "xTest : {xTest}\n",
        "yTest : {yTest}\n",
        "''')"
      ],
      "execution_count": 16,
      "outputs": [
        {
          "output_type": "stream",
          "text": [
            "\n",
            "Training data :\n",
            "xTrain : [0, 1, 2, 3, 4, 5, 6, 7, 8, 9, 10, 11, 12, 13, 14, 15]\n",
            "yTrain : [0, 10, 20, 30, 40, 50, 60, 70, 80, 90, 100, 110, 120, 130, 140, 150]\n",
            "\n",
            "Testing data :\n",
            "xTest : [0, 1, 2, 3, 4, 5, 6, 7, 8, 9, 10, 11, 12, 13, 14, 15]\n",
            "yTest : [0, 10, 20, 30, 40, 50, 60, 70, 80, 90, 100, 110, 120, 130, 140, 150]\n",
            "\n"
          ],
          "name": "stdout"
        }
      ]
    },
    {
      "cell_type": "code",
      "metadata": {
        "id": "Mv9-lcwqRI8s"
      },
      "source": [
        "import tensorflow as tf\n",
        "from tensorflow import keras"
      ],
      "execution_count": 18,
      "outputs": []
    },
    {
      "cell_type": "code",
      "metadata": {
        "id": "tAqlGGxwRdNH"
      },
      "source": [
        "#perceptron model\n",
        "\n",
        "model=tf.keras.Sequential([\n",
        "                           tf.keras.layers.Dense\n",
        "])"
      ],
      "execution_count": null,
      "outputs": []
    }
  ]
}